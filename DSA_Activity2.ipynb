{
 "cells": [
  {
   "cell_type": "markdown",
   "metadata": {},
   "source": [
    "BONIFACIO, ANDREW DOMINIC G.\n",
    "BSCPE 2-3 | SEPTEMBER 30, 2024 | DSA ACTIVITY 2"
   ]
  },
  {
   "cell_type": "markdown",
   "metadata": {},
   "source": [
    "LAB EXERCISE 1"
   ]
  },
  {
   "cell_type": "code",
   "execution_count": 8,
   "metadata": {},
   "outputs": [
    {
     "data": {
      "text/plain": [
       "128"
      ]
     },
     "execution_count": 8,
     "metadata": {},
     "output_type": "execute_result"
    }
   ],
   "source": [
    "def exponents(x: int, y:int):\n",
    "    if y == 1:\n",
    "        return x\n",
    "    else: \n",
    "        return x * exponents(x, y-1)\n",
    "\n",
    "exponents(2, 7)"
   ]
  },
  {
   "cell_type": "markdown",
   "metadata": {},
   "source": [
    "LAB EXERCISE 2"
   ]
  },
  {
   "cell_type": "code",
   "execution_count": 16,
   "metadata": {},
   "outputs": [
    {
     "name": "stdout",
     "output_type": "stream",
     "text": [
      "1\n",
      "8\n",
      "27\n",
      "64\n",
      "125\n"
     ]
    }
   ],
   "source": [
    "array_size = int(input(\"Enter array size: \"))\n",
    "\n",
    "array = []\n",
    "for i in range(array_size):\n",
    "    integer = int(input(f\"Enter integer {i + 1}\"))\n",
    "    array.append(integer)\n",
    "\n",
    "cube = [x ** 3 for x in array]\n",
    "for i in range(0, len(array)):\n",
    "    print(cube[i])"
   ]
  },
  {
   "cell_type": "markdown",
   "metadata": {},
   "source": [
    "LAB EXERCISE 3"
   ]
  },
  {
   "cell_type": "code",
   "execution_count": 20,
   "metadata": {},
   "outputs": [
    {
     "name": "stdout",
     "output_type": "stream",
     "text": [
      "xxxxxx\n",
      "x    x\n",
      "x    x\n",
      "x    x\n",
      "x    x\n",
      "xxxxxx\n"
     ]
    }
   ],
   "source": [
    "length = int(input(\"Enter the side length of the square: \"))\n",
    "for i in range(length):\n",
    "    if i == 0 or i == length - 1:\n",
    "        print('x' * length)\n",
    "    else:\n",
    "        print('x' + ' ' * (length - 2) + 'x')"
   ]
  },
  {
   "cell_type": "markdown",
   "metadata": {},
   "source": [
    "LAB EXERCISE 4"
   ]
  },
  {
   "cell_type": "code",
   "execution_count": 22,
   "metadata": {},
   "outputs": [
    {
     "name": "stdout",
     "output_type": "stream",
     "text": [
      "*****\n",
      "****\n",
      "***\n",
      "**\n",
      "*\n"
     ]
    }
   ],
   "source": [
    "height = int(input(\"Enter the height of the triangle: \"))\n",
    "for i in range(height):\n",
    "    print(\"*\" * (height - i))"
   ]
  }
 ],
 "metadata": {
  "kernelspec": {
   "display_name": "Python 3",
   "language": "python",
   "name": "python3"
  },
  "language_info": {
   "codemirror_mode": {
    "name": "ipython",
    "version": 3
   },
   "file_extension": ".py",
   "mimetype": "text/x-python",
   "name": "python",
   "nbconvert_exporter": "python",
   "pygments_lexer": "ipython3",
   "version": "3.12.4"
  }
 },
 "nbformat": 4,
 "nbformat_minor": 2
}
